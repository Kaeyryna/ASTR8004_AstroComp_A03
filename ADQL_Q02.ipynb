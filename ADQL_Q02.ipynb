{
 "cells": [
  {
   "cell_type": "code",
   "execution_count": 2,
   "id": "9a592d2d",
   "metadata": {},
   "outputs": [],
   "source": [
    "from astroquery.gaia import Gaia"
   ]
  },
  {
   "cell_type": "markdown",
   "id": "f21d4afb",
   "metadata": {},
   "source": [
    "Q2.1.1"
   ]
  },
  {
   "cell_type": "code",
   "execution_count": 3,
   "id": "e02a9efa",
   "metadata": {},
   "outputs": [
    {
     "name": "stdout",
     "output_type": "stream",
     "text": [
      "INFO: Query finished. [astroquery.utils.tap.core]\n",
      "    solution_id             designation          ... libname_gspphot\n",
      "                                                 ...                \n",
      "------------------- ---------------------------- ... ---------------\n",
      "1636148068921376768 Gaia DR3 4088890298371955072 ...                \n",
      "1636148068921376768 Gaia DR3 4088890332733100544 ...         PHOENIX\n",
      "1636148068921376768 Gaia DR3 4088890440127905152 ...           MARCS\n",
      "1636148068921376768 Gaia DR3 4088890508847387264 ...                \n",
      "1636148068921376768 Gaia DR3 4088890715005822208 ...         PHOENIX\n",
      "1636148068921376768 Gaia DR3 4088890985568307712 ...                \n",
      "1636148068921376768 Gaia DR3 4088890989883466752 ...           MARCS\n",
      "1636148068921376768 Gaia DR3 4088891500962797312 ...           MARCS\n",
      "1636148068921376768 Gaia DR3 4088891780157722880 ...           MARCS\n",
      "                ...                          ... ...             ...\n",
      "1636148068921376768 Gaia DR3 4184291593729585024 ...               A\n",
      "1636148068921376768 Gaia DR3 4184291868607530880 ...           MARCS\n",
      "1636148068921376768 Gaia DR3 4184292826370463872 ...           MARCS\n",
      "1636148068921376768 Gaia DR3 4184293242996826752 ...         PHOENIX\n",
      "1636148068921376768 Gaia DR3 4184293792755595904 ...         PHOENIX\n",
      "1636148068921376768 Gaia DR3 4184301523694233472 ...           MARCS\n",
      "1636148068921376768 Gaia DR3 4184301656826232832 ...                \n",
      "1636148068921376768 Gaia DR3 4184301759905283712 ...                \n",
      "1636148068921376768 Gaia DR3 4184301764212407936 ...                \n",
      "1636148068921376768 Gaia DR3 4184302898083798144 ...                \n",
      "Length = 4439 rows\n",
      "Number of stars queried:  4439\n"
     ]
    }
   ],
   "source": [
    "query = f\"\"\"\n",
    "SELECT *\n",
    "FROM gaiadr3.gaia_source AS gaia\n",
    "WHERE ra BETWEEN 288.074 AND  290.074 \n",
    "AND dec BETWEEN -17.323 AND -15.323 \n",
    "AND phot_g_mean_mag < 14\n",
    "\"\"\"\n",
    "\n",
    "job = Gaia.launch_job_async(query)\n",
    "query_result = job.get_results()\n",
    "print(query_result[:])\n",
    "print(\"Number of stars queried: \", len(query_result))"
   ]
  },
  {
   "cell_type": "code",
   "execution_count": 5,
   "id": "b4eea861",
   "metadata": {},
   "outputs": [
    {
     "name": "stdout",
     "output_type": "stream",
     "text": [
      "INFO: Query finished. [astroquery.utils.tap.core]\n",
      "     source_id              ra         ...       parallax      phot_g_mean_mag\n",
      "                           deg         ...         mas               mag      \n",
      "------------------- ------------------ ... ------------------- ---------------\n",
      "4088892600474423808   288.225913383953 ...    0.62455249645911       11.983528\n",
      "4088893154546972672  288.2712833680353 ... 0.45447986589366096       12.048648\n",
      "4088893188906716032 288.25439628158034 ... 0.21115982798942504       12.808913\n",
      "4087815667506086656  288.5122764274494 ... 0.09282514372355384         12.8003\n",
      "4087815697559746304 288.52096989043656 ... 0.36689195267639924      11.6173725\n",
      "4087815697560348032 288.53178596539925 ...  0.9230980512714764       13.623151\n",
      "4088026150958748032 288.12797040351876 ...   2.071021848349405       13.312048\n",
      "4087815770585314176  288.4847751861549 ...  0.7240193257674604       13.262312\n",
      "4087815869358437632 288.50192906175465 ...  0.6170754148307027       11.777403\n",
      "                ...                ... ...                 ...             ...\n",
      "4184288776231023744  289.4257724500948 ...  1.4445919060876051       13.672959\n",
      "4184288844950453248  289.4737771221321 ...  0.2522185842450968       12.759375\n",
      "4184288879310204416  289.4622446187554 ...  1.5668635605233803       13.589591\n",
      "4184288943719964800  289.4979515265059 ...  0.7107100623061141       13.734598\n",
      "4184289188547890816  289.4394806190006 ...  0.2421325233869777       13.657353\n",
      "4184289360346592384 289.38997957798466 ...  2.1285520310439408       13.095424\n",
      "4184289360346602880 289.37564974091595 ...  0.1574647778364801       13.713335\n",
      "4184289429066094720  289.3738806380603 ...  0.7977493259990538       13.875295\n",
      "4184289532145282432 289.41326543254075 ...  0.4717659885248376       13.576118\n",
      "4184289635224545792  289.3547843868879 ...  1.0673160424484667       12.685917\n",
      "Length = 3663 rows\n",
      "Number of stars queried:  3663\n"
     ]
    }
   ],
   "source": [
    "#Q2.1 USETHIS\n",
    "query = f\"\"\"\n",
    "SELECT source_id, ra, dec, parallax, phot_g_mean_mag\n",
    "\n",
    "FROM gaiadr3.gaia_source AS gaia\n",
    "\n",
    "WHERE DISTANCE(POINT(289.074, -16.323), POINT(ra, dec)) <= 1\n",
    "    AND phot_g_mean_mag < 14\n",
    "\"\"\"\n",
    "\n",
    "job = Gaia.launch_job_async(query)\n",
    "query_result = job.get_results()\n",
    "print(query_result[:])\n",
    "print(\"Number of stars queried: \", len(query_result))"
   ]
  },
  {
   "cell_type": "code",
   "execution_count": null,
   "id": "9d48b738",
   "metadata": {},
   "outputs": [
    {
     "name": "stdout",
     "output_type": "stream",
     "text": [
      "INFO: Query finished. [astroquery.utils.tap.core]\n",
      "    solution_id             designation          ... number_of_mates\n",
      "                                                 ...                \n",
      "------------------- ---------------------------- ... ---------------\n",
      "1636148068921376768 Gaia DR3 4088890298371955072 ...               0\n",
      "1636148068921376768 Gaia DR3 4088890332733100544 ...               0\n",
      "1636148068921376768 Gaia DR3 4088890440127905152 ...               0\n",
      "1636148068921376768 Gaia DR3 4088890508847387264 ...               0\n",
      "1636148068921376768 Gaia DR3 4088890715005822208 ...               0\n",
      "1636148068921376768 Gaia DR3 4088890985568307712 ...               0\n",
      "1636148068921376768 Gaia DR3 4088890989883466752 ...               0\n",
      "1636148068921376768 Gaia DR3 4088891500962797312 ...               0\n",
      "1636148068921376768 Gaia DR3 4088891780157722880 ...               1\n",
      "                ...                          ... ...             ...\n",
      "1636148068921376768 Gaia DR3 4184291147052922880 ...               0\n",
      "1636148068921376768 Gaia DR3 4184291593729585024 ...               0\n",
      "1636148068921376768 Gaia DR3 4184291868607530880 ...               0\n",
      "1636148068921376768 Gaia DR3 4184292826370463872 ...               0\n",
      "1636148068921376768 Gaia DR3 4184293242996826752 ...               0\n",
      "1636148068921376768 Gaia DR3 4184293792755595904 ...               0\n",
      "1636148068921376768 Gaia DR3 4184301523694233472 ...               0\n",
      "1636148068921376768 Gaia DR3 4184301656826232832 ...               0\n",
      "1636148068921376768 Gaia DR3 4184301759905283712 ...               0\n",
      "1636148068921376768 Gaia DR3 4184302898083798144 ...               0\n",
      "Length = 4408 rows\n"
     ]
    }
   ],
   "source": [
    "query = f\"\"\"\n",
    "SELECT *\n",
    "FROM gaiadr3.gaia_source AS gaia\n",
    "JOIN gaiadr3.tmass_psc_xsc_best_neighbour as m\n",
    "ON gaia.source_id = m.source_id\n",
    "WHERE ra BETWEEN 288.074 AND  290.074 \n",
    "AND dec BETWEEN -17.323 AND -15.323 \n",
    "AND phot_g_mean_mag < 14\n",
    "\"\"\"\n",
    "\n",
    "job = Gaia.launch_job_async(query)\n",
    "query_result = job.get_results()\n",
    "print(query_result[:])"
   ]
  },
  {
   "cell_type": "code",
   "execution_count": 6,
   "id": "6c476837",
   "metadata": {},
   "outputs": [
    {
     "name": "stdout",
     "output_type": "stream",
     "text": [
      "INFO: Query finished. [astroquery.utils.tap.core]\n",
      "    solution_id          source_id      ... clean_tmass_psc_xsc_oid2\n",
      "                                        ...                         \n",
      "------------------- ------------------- ... ------------------------\n",
      "1636148068921376768 4088892600474423808 ...                239694531\n",
      "1636148068921376768 4088893154546972672 ...                239823832\n",
      "1636148068921376768 4088893188906716032 ...                239807539\n",
      "1636148068921376768 4087815667506086656 ...                235437416\n",
      "1636148068921376768 4087815697559746304 ...                235435467\n",
      "1636148068921376768 4087815697560348032 ...                235456105\n",
      "1636148068921376768 4088026150958748032 ...                236393715\n",
      "1636148068921376768 4087815770585314176 ...                235398978\n",
      "1636148068921376768 4087815869358437632 ...                235466648\n",
      "                ...                 ... ...                      ...\n",
      "1636148068921376768 4184288776231023744 ...                240925177\n",
      "1636148068921376768 4184288844950453248 ...                240879530\n",
      "1636148068921376768 4184288879310204416 ...                240897021\n",
      "1636148068921376768 4184288943719964800 ...                240934558\n",
      "1636148068921376768 4184289188547890816 ...                240993957\n",
      "1636148068921376768 4184289360346592384 ...                240861209\n",
      "1636148068921376768 4184289360346602880 ...                240849154\n",
      "1636148068921376768 4184289429066094720 ...                240905654\n",
      "1636148068921376768 4184289532145282432 ...                240935702\n",
      "1636148068921376768 4184289635224545792 ...                240932849\n",
      "Length = 3637 rows\n",
      "Number of stars queried:  3637\n"
     ]
    }
   ],
   "source": [
    "#Q2.1_include_crossmatch USETHIS\n",
    "\n",
    "query = f\"\"\"\n",
    "SELECT gaia.solution_id, gaia.source_id, gaia.ra, gaia.dec, gaia.parallax, gaia.phot_g_mean_mag, xmatch.original_ext_source_id,\n",
    "xmatch.clean_tmass_psc_xsc_oid,xjoin.clean_tmass_psc_xsc_oid\n",
    "\n",
    "FROM gaiadr3.gaia_source AS gaia\n",
    "JOIN gaiaedr3.tmass_psc_xsc_best_neighbour AS xmatch USING(source_id)\n",
    "JOIN gaiaedr3.tmass_psc_xsc_join AS xjoin USING(clean_tmass_psc_xsc_oid)\n",
    "JOIN gaiadr1.tmass_original_valid AS tmass\n",
    "\tON xjoin.original_psc_source_id = tmass.designation\n",
    "\n",
    "WHERE DISTANCE(POINT(289.074, -16.323), POINT(gaia.ra, gaia.dec)) < 1\n",
    "    AND phot_g_mean_mag < 14\n",
    "\"\"\"\n",
    "\n",
    "job = Gaia.launch_job_async(query)\n",
    "query_result = job.get_results()\n",
    "print(query_result[:])\n",
    "print(\"Number of stars queried: \", len(query_result))"
   ]
  },
  {
   "cell_type": "markdown",
   "id": "774faf19",
   "metadata": {},
   "source": [
    "q2.2- COUNT HOW MANY STARS IN INITIAL QUERY"
   ]
  },
  {
   "cell_type": "code",
   "execution_count": null,
   "id": "e9bb5c67",
   "metadata": {},
   "outputs": [],
   "source": [
    "#"
   ]
  },
  {
   "cell_type": "code",
   "execution_count": 9,
   "id": "8dca8916",
   "metadata": {},
   "outputs": [
    {
     "name": "stdout",
     "output_type": "stream",
     "text": [
      "INFO: Query finished. [astroquery.utils.tap.core]\n",
      "COUNT_ALL\n",
      "---------\n",
      "     3663\n"
     ]
    }
   ],
   "source": [
    "#Q2.2 after crossmatch USETHIS\n",
    "query = f\"\"\"\n",
    "SELECT source_id, COUNT(source_id) AS star_count\n",
    "FROM job_upload.\"job1759426844430O\"\n",
    "GROUP BY source_id\n",
    "\"\"\"\n",
    "\n",
    "job = Gaia.launch_job_async(query)\n",
    "query_result = job.get_results()\n",
    "print(query_result[:])\n",
    "\n",
    "#THIS QUERY PRODUCED 3637"
   ]
  },
  {
   "cell_type": "markdown",
   "id": "900b8cfd",
   "metadata": {},
   "source": [
    "q2.3"
   ]
  },
  {
   "cell_type": "code",
   "execution_count": 7,
   "id": "ec2948d7",
   "metadata": {},
   "outputs": [
    {
     "name": "stdout",
     "output_type": "stream",
     "text": [
      "INFO: Query finished. [astroquery.utils.tap.core]\n",
      "    solution_id          source_id      ... clean_tmass_psc_xsc_oid2 ph_qual\n",
      "                                        ...                                 \n",
      "------------------- ------------------- ... ------------------------ -------\n",
      "1636148068921376768 4087817587345358208 ...                235359490     EEE\n",
      "1636148068921376768 4088030720802935168 ...                236741141     EAA\n",
      "1636148068921376768 4087828449329195776 ...                235586243     ADD\n",
      "1636148068921376768 4087831988382289792 ...                235804855     AAU\n",
      "1636148068921376768 4087832194541999104 ...                235871904     AEA\n",
      "1636148068921376768 4088035909118412800 ...                237071846     EAA\n",
      "1636148068921376768 4087842193224785664 ...                236586443     EEA\n",
      "1636148068921376768 4087844254808918144 ...                236019207     EEA\n",
      "1636148068921376768 4087851951390671616 ...                236747947     UAA\n",
      "                ...                 ... ...                      ...     ...\n",
      "1636148068921376768 4183864051194928128 ...                236149310     UAA\n",
      "1636148068921376768 4184157758240796928 ...                239238458     AEE\n",
      "1636148068921376768 4183897556248558336 ...                237166709     EEA\n",
      "1636148068921376768 4184193187440014336 ...                240457949     EAA\n",
      "1636148068921376768 4184202219746055936 ...                239356618     AAE\n",
      "1636148068921376768 4184220606512017024 ...                240037494     AEE\n",
      "1636148068921376768 4184222904303628672 ...                240027383     UAU\n",
      "1636148068921376768 4184238851533639552 ...                240594965     AAU\n",
      "1636148068921376768 4184241840831017728 ...                240820349     EEA\n",
      "1636148068921376768 4184249262534380544 ...                240594438     EAA\n",
      "Length = 79 rows\n",
      "Number of stars queried:  79\n"
     ]
    }
   ],
   "source": [
    "#Q2.3 PH_QUALTIY <> 'AAA'\n",
    "\n",
    "query = f\"\"\"\n",
    "SELECT gaia.solution_id, gaia.source_id, gaia.ra, gaia.dec, gaia.parallax, gaia.phot_g_mean_mag, xmatch.original_ext_source_id,\n",
    "xmatch.clean_tmass_psc_xsc_oid,xjoin.clean_tmass_psc_xsc_oid, tmass.ph_qual\n",
    "\n",
    "FROM gaiadr3.gaia_source AS gaia\n",
    "JOIN gaiaedr3.tmass_psc_xsc_best_neighbour AS xmatch USING(source_id)\n",
    "JOIN gaiaedr3.tmass_psc_xsc_join AS xjoin USING(clean_tmass_psc_xsc_oid)\n",
    "JOIN gaiadr1.tmass_original_valid AS tmass\n",
    "\tON xjoin.original_psc_source_id = tmass.designation\n",
    "\n",
    "WHERE DISTANCE(POINT(289.074, -16.323), POINT(gaia.ra, gaia.dec)) < 1\n",
    "    AND phot_g_mean_mag < 14\n",
    "\tAND tmass.ph_qual <> 'AAA'\n",
    "\n",
    "\"\"\"\n",
    "\n",
    "job = Gaia.launch_job_async(query)\n",
    "query_result = job.get_results()\n",
    "print(query_result[:])\n",
    "print(\"Number of stars queried: \", len(query_result))"
   ]
  },
  {
   "cell_type": "markdown",
   "id": "b1ab352a",
   "metadata": {},
   "source": [
    "q2.4"
   ]
  },
  {
   "cell_type": "code",
   "execution_count": 9,
   "id": "3e45449c",
   "metadata": {},
   "outputs": [
    {
     "name": "stdout",
     "output_type": "stream",
     "text": [
      "INFO: Query finished. [astroquery.utils.tap.core]\n",
      "    solution_id          source_id      ... clean_tmass_psc_xsc_oid2 ph_qual\n",
      "                                        ...                                 \n",
      "------------------- ------------------- ... ------------------------ -------\n",
      "1636148068921376768 4088071681918475648 ...                238423249     AAA\n",
      "1636148068921376768 4183955761646427648 ...                238155586     AAA\n",
      "1636148068921376768 4184125666248287232 ...                237573046     AAA\n",
      "1636148068921376768 4183866323248161280 ...                236106600     AAA\n",
      "1636148068921376768 4184214387399231360 ...                239531570     AAA\n",
      "Number of stars queried:  5\n"
     ]
    }
   ],
   "source": [
    "#Q2.4 Gaia only parallax, non positive parallax\n",
    "\n",
    "query = f\"\"\"\n",
    "SELECT gaia.solution_id, gaia.source_id, gaia.ra, gaia.dec, gaia.parallax, gaia.phot_g_mean_mag, xmatch.original_ext_source_id,\n",
    "xmatch.clean_tmass_psc_xsc_oid,xjoin.clean_tmass_psc_xsc_oid, tmass.ph_qual\n",
    "\n",
    "FROM gaiadr3.gaia_source AS gaia\n",
    "JOIN gaiaedr3.tmass_psc_xsc_best_neighbour AS xmatch USING(source_id)\n",
    "JOIN gaiaedr3.tmass_psc_xsc_join AS xjoin USING(clean_tmass_psc_xsc_oid)\n",
    "JOIN gaiadr1.tmass_original_valid AS tmass\n",
    "\tON xjoin.original_psc_source_id = tmass.designation\n",
    "\n",
    "WHERE DISTANCE(POINT(289.074, -16.323), POINT(gaia.ra, gaia.dec)) < 1\n",
    "    AND phot_g_mean_mag < 14\n",
    "    AND gaia.parallax < 0\n",
    "\n",
    "\"\"\"\n",
    "\n",
    "job = Gaia.launch_job_async(query)\n",
    "query_result = job.get_results()\n",
    "print(query_result[:])\n",
    "print(\"Number of stars queried: \", len(query_result))"
   ]
  },
  {
   "cell_type": "markdown",
   "id": "71cc5257",
   "metadata": {},
   "source": [
    "q2.5"
   ]
  },
  {
   "cell_type": "code",
   "execution_count": 10,
   "id": "b3a55970",
   "metadata": {},
   "outputs": [
    {
     "name": "stdout",
     "output_type": "stream",
     "text": [
      "INFO: Query finished. [astroquery.utils.tap.core]\n",
      "    solution_id          source_id      ... clean_tmass_psc_xsc_oid2 ph_qual\n",
      "                                        ...                                 \n",
      "------------------- ------------------- ... ------------------------ -------\n",
      "1636148068921376768 4088892600474423808 ...                239694531     AAA\n",
      "1636148068921376768 4088893154546972672 ...                239823832     AAA\n",
      "1636148068921376768 4088893188906716032 ...                239807539     AAA\n",
      "1636148068921376768 4087815667506086656 ...                235437416     AAA\n",
      "1636148068921376768 4087815697559746304 ...                235435467     AAA\n",
      "1636148068921376768 4087815697560348032 ...                235456105     AAA\n",
      "1636148068921376768 4088026150958748032 ...                236393715     AAA\n",
      "1636148068921376768 4087815770585314176 ...                235398978     AAA\n",
      "1636148068921376768 4087815869358437632 ...                235466648     AAA\n",
      "                ...                 ... ...                      ...     ...\n",
      "1636148068921376768 4184288776231023744 ...                240925177     AAA\n",
      "1636148068921376768 4184288844950453248 ...                240879530     AAA\n",
      "1636148068921376768 4184288879310204416 ...                240897021     AAA\n",
      "1636148068921376768 4184288943719964800 ...                240934558     AAA\n",
      "1636148068921376768 4184289188547890816 ...                240993957     AAA\n",
      "1636148068921376768 4184289360346592384 ...                240861209     AAA\n",
      "1636148068921376768 4184289360346602880 ...                240849154     AAA\n",
      "1636148068921376768 4184289429066094720 ...                240905654     AAA\n",
      "1636148068921376768 4184289532145282432 ...                240935702     AAA\n",
      "1636148068921376768 4184289635224545792 ...                240932849     AAA\n",
      "Length = 3535 rows\n",
      "Number of stars queried:  3535\n"
     ]
    }
   ],
   "source": [
    "#q2.5\n",
    "\n",
    "query = f\"\"\"\n",
    "SELECT gaia.solution_id, gaia.source_id, gaia.ra, gaia.dec, gaia.parallax, gaia.phot_g_mean_mag, xmatch.original_ext_source_id,\n",
    "xmatch.clean_tmass_psc_xsc_oid,xjoin.clean_tmass_psc_xsc_oid, tmass.ph_qual\n",
    "\n",
    "FROM gaiadr3.gaia_source AS gaia\n",
    "JOIN gaiaedr3.tmass_psc_xsc_best_neighbour AS xmatch USING(source_id)\n",
    "JOIN gaiaedr3.tmass_psc_xsc_join AS xjoin USING(clean_tmass_psc_xsc_oid)\n",
    "JOIN gaiadr1.tmass_original_valid AS tmass\n",
    "\tON xjoin.original_psc_source_id = tmass.designation\n",
    "\n",
    "WHERE DISTANCE(POINT(289.074, -16.323), POINT(gaia.ra, gaia.dec)) < 1\n",
    "    AND phot_g_mean_mag < 14\n",
    "\tAND tmass.ph_qual = 'AAA'\n",
    "    AND gaia.parallax > 0\n",
    "\n",
    "\"\"\"\n",
    "\n",
    "job = Gaia.launch_job_async(query)\n",
    "query_result = job.get_results()\n",
    "print(query_result[:])\n",
    "print(\"Number of stars queried: \", len(query_result))\n"
   ]
  },
  {
   "cell_type": "markdown",
   "id": "735f6d2e",
   "metadata": {},
   "source": [
    "RETRIEVING PLOTTING DATA"
   ]
  },
  {
   "cell_type": "code",
   "execution_count": null,
   "id": "50c05162",
   "metadata": {},
   "outputs": [
    {
     "name": "stdout",
     "output_type": "stream",
     "text": [
      "INFO: Query finished. [astroquery.utils.tap.core]\n",
      "    solution_id          source_id              ra         ...  ks_m   h_m  \n",
      "                                               deg         ...  mag    mag  \n",
      "------------------- ------------------- ------------------ ... ------ ------\n",
      "1636148068921376768 4088892600474423808   288.225913383953 ...  9.218   9.41\n",
      "1636148068921376768 4088893154546972672  288.2712833680353 ...  9.005  9.188\n",
      "1636148068921376768 4088893188906716032 288.25439628158034 ...  9.503  9.733\n",
      "1636148068921376768 4087815667506086656  288.5122764274494 ...  9.492   9.71\n",
      "1636148068921376768 4087815697559746304 288.52096989043656 ...  7.032  7.314\n",
      "1636148068921376768 4087815697560348032 288.53178596539925 ... 12.217 12.329\n",
      "1636148068921376768 4088026150958748032 288.12797040351876 ... 11.778 11.826\n",
      "1636148068921376768 4087815770585314176  288.4847751861549 ...  10.93  11.03\n",
      "1636148068921376768 4087815869358437632 288.50192906175465 ...  9.372  9.527\n",
      "                ...                 ...                ... ...    ...    ...\n",
      "1636148068921376768 4184288776231023744  289.4257724500948 ... 11.939 11.989\n",
      "1636148068921376768 4184288844950453248  289.4737771221321 ...  9.634  9.795\n",
      "1636148068921376768 4184288879310204416  289.4622446187554 ... 11.661 11.749\n",
      "1636148068921376768 4184288943719964800  289.4979515265059 ... 12.274 12.326\n",
      "1636148068921376768 4184289188547890816  289.4394806190006 ... 11.199 11.299\n",
      "1636148068921376768 4184289360346592384 289.38997957798466 ... 11.504 11.534\n",
      "1636148068921376768 4184289360346602880 289.37564974091595 ... 11.326 11.417\n",
      "1636148068921376768 4184289429066094720  289.3738806380603 ... 12.386 12.476\n",
      "1636148068921376768 4184289532145282432 289.41326543254075 ... 11.538 11.646\n",
      "1636148068921376768 4184289635224545792  289.3547843868879 ...  11.21 11.301\n",
      "Length = 3535 rows\n"
     ]
    }
   ],
   "source": [
    "import pandas as pd\n",
    "\n",
    "query = f\"\"\"\n",
    "SELECT gaia.solution_id, gaia.source_id, gaia.ra, gaia.dec, gaia.parallax, gaia.bp_rp, gaia.phot_g_mean_mag, xmatch.original_ext_source_id,\n",
    "xmatch.clean_tmass_psc_xsc_oid,xjoin.clean_tmass_psc_xsc_oid, tmass.ph_qual, tmass.j_m, tmass.ks_m, tmass.h_m\n",
    "\n",
    "FROM gaiadr3.gaia_source AS gaia\n",
    "JOIN gaiaedr3.tmass_psc_xsc_best_neighbour AS xmatch USING(source_id)\n",
    "JOIN gaiaedr3.tmass_psc_xsc_join AS xjoin USING(clean_tmass_psc_xsc_oid)\n",
    "JOIN gaiadr1.tmass_original_valid AS tmass\n",
    "\tON xjoin.original_psc_source_id = tmass.designation\n",
    "\n",
    "WHERE DISTANCE(POINT(289.074, -16.323), POINT(gaia.ra, gaia.dec)) < 1\n",
    "    AND phot_g_mean_mag < 14\n",
    "\tAND tmass.ph_qual = 'AAA'\n",
    "    AND gaia.parallax > 0\n",
    "\"\"\"\n",
    "\n",
    "job = Gaia.launch_job_async(query)\n",
    "query_result = job.get_results()\n",
    "print(query_result[:])\n",
    "\n",
    "df = query_result.to_pandas()\n",
    "df.to_csv('2.6_plot2_J-KvsH-result.csv', index=False)"
   ]
  }
 ],
 "metadata": {
  "kernelspec": {
   "display_name": "base",
   "language": "python",
   "name": "python3"
  },
  "language_info": {
   "codemirror_mode": {
    "name": "ipython",
    "version": 3
   },
   "file_extension": ".py",
   "mimetype": "text/x-python",
   "name": "python",
   "nbconvert_exporter": "python",
   "pygments_lexer": "ipython3",
   "version": "3.12.7"
  }
 },
 "nbformat": 4,
 "nbformat_minor": 5
}
